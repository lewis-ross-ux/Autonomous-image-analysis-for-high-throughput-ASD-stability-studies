{
 "cells": [
  {
   "cell_type": "code",
   "execution_count": 7,
   "id": "313a1478-8b75-43d4-b559-17a87713cf28",
   "metadata": {},
   "outputs": [],
   "source": [
    "import cv2\n",
    "from pathlib import Path\n",
    "import os"
   ]
  },
  {
   "cell_type": "code",
   "execution_count": 8,
   "id": "fd906ca4-772e-49e5-88d5-80e888c578ae",
   "metadata": {},
   "outputs": [],
   "source": [
    "#------paths---------#\n",
    "images_path = Path(\"/home/lero/idrive/cmac/DDMAP/Image_analysis/Code/cryst_amorphous_model/images\")\n",
    "labels_path = Path(\"/home/lero/idrive/cmac/DDMAP/Image_analysis/Code/cryst_amorphous_model/labels\")\n",
    "\n",
    "output_images = Path(\"/home/lero/idrive/cmac/DDMAP/Image_analysis/Code/cryst_amorphous_model/patches/images\")\n",
    "output_labels = Path(\"/home/lero/idrive/cmac/DDMAP/Image_analysis/Code/cryst_amorphous_model/patches/labels\")\n",
    "\n",
    "output_images.mkdir(parents=True, exist_ok=True)\n",
    "output_labels.mkdir(parents=True, exist_ok=True)"
   ]
  },
  {
   "cell_type": "code",
   "execution_count": null,
   "id": "435571ad-5f11-45d5-9fd4-2ec2ffbad6de",
   "metadata": {},
   "outputs": [
    {
     "name": "stdout",
     "output_type": "stream",
     "text": [
      "✅ Cropped 96 wells from 20240823_161022.png\n",
      "✅ Cropped 96 wells from 20240823_161106.png\n",
      "✅ Cropped 96 wells from 20240823_161147.png\n",
      "✅ Cropped 96 wells from 20240828_104734.png\n",
      "✅ Cropped 96 wells from 20240829_133137.png\n",
      "✅ Cropped 96 wells from 20240830_103104.png\n",
      "✅ Cropped 96 wells from 20240902_121458.png\n",
      "✅ Cropped 96 wells from 20240907_042114.png\n",
      "✅ Cropped 96 wells from 20240910_151535.png\n",
      "✅ Cropped 95 wells from 20240912_113530.png\n",
      "✅ Cropped 96 wells from 20240912_134010.png\n",
      "✅ Cropped 96 wells from 20240912_134051.png\n",
      "✅ Cropped 97 wells from 20240913_161403.png\n",
      "✅ Cropped 96 wells from 20240917_150020.png\n",
      "✅ Cropped 96 wells from 20241005_060027.png\n",
      "✅ Cropped 96 wells from 20241007_131206.png\n",
      "✅ Cropped 96 wells from 20241008_140227.png\n",
      "✅ Cropped 96 wells from 20241008_140309.png\n",
      "✅ Cropped 96 wells from 20241009_100529.png\n",
      "✅ Cropped 96 wells from 20241009_104723.png\n",
      "✅ Cropped 96 wells from 20241009_104804.png\n",
      "✅ Cropped 96 wells from 20241010_114556.png\n",
      "✅ Cropped 96 wells from 20241012_030656.png\n",
      "✅ Cropped 96 wells from 20241012_164211.png\n",
      "✅ Cropped 96 wells from 20241013_131355.png\n",
      "✅ Cropped 96 wells from 20241015_095232.png\n",
      "✅ Cropped 96 wells from 20241021_215718.png\n",
      "✅ Cropped 94 wells from 20241022_115051.png\n",
      "✅ Cropped 96 wells from 20241023_094322.png\n",
      "✅ Cropped 96 wells from 20241104_111230.png\n",
      "✅ Cropped 96 wells from 20241104_111316.png\n",
      "✅ Cropped 95 wells from 20241104_111703.png\n",
      "✅ Cropped 96 wells from 20241104_111918.png\n"
     ]
    }
   ],
   "source": [
    "#----process images------#\n",
    "image_files = sorted(list(images_path.glob(\"*.png\")))\n",
    "\n",
    "for img_path in image_files:\n",
    "    label_path=labels_path / f\"{img_path.stem}.txt\"\n",
    "    if not label_path.exists():\n",
    "        print(f\"no label path found for f{img_path.name}, skipping\")\n",
    "        continue\n",
    "\n",
    "    img = cv2.imread(str(img_path))\n",
    "    if img is None:\n",
    "        print(f\"couldnt find image f{img_path}, skipping\")\n",
    "        continue\n",
    "\n",
    "    h, w, _ = img.shape\n",
    "\n",
    "    #read yolo format labels\n",
    "    with open(label_path, \"r\") as f:\n",
    "        lines=f.readlines()\n",
    "\n",
    "    for i, line in enumerate(lines):\n",
    "        parts = line.strip().split()\n",
    "        if len(parts) !=5:\n",
    "            continue\n",
    "\n",
    "        cls_id, x_c, y_c, bw, bh = map(float, parts)\n",
    "        #conversion to normalised coordinates\n",
    "        x_c, y_c, bw, bh = x_c * w, y_c * h, bw * w, bh * h\n",
    "\n",
    "        x1 = int(x_c - bw / 2)\n",
    "        y1 = int(y_c - bh / 2)\n",
    "        x2 = int(x_c + bw / 2)\n",
    "        y2 = int(y_c + bh / 2)\n",
    "\n",
    "        # Ensure coordinates are within image bounds\n",
    "        x1, y1 = max(0, x1), max(0, y1)\n",
    "        x2, y2 = min(w, x2), min(h, y2)\n",
    "\n",
    "        # Crop the well\n",
    "        crop = img[y1:y2, x1:x2]\n",
    "\n",
    "        # Save cropped image\n",
    "        crop_name = f\"{img_path.stem}_well_{i:02d}.png\"\n",
    "        crop_path = output_images / crop_name\n",
    "        cv2.imwrite(str(crop_path), crop)\n",
    "\n",
    "\n",
    "        # Create corresponding label file (the whole crop = one object)\n",
    "        label_out = output_labels / f\"{crop_name.replace('.png', '.txt')}\"\n",
    "        with open(label_out, \"w\") as lf:\n",
    "            lf.write(f\"{int(cls_id)} 0.5 0.5 1.0 1.0\\n\")\n",
    "\n",
    "    print(f\"✅ Cropped {len(lines)} wells from {img_path.name}\")\n",
    "\n",
    "print(\"🎯 All well crops and labels created successfully!\")"
   ]
  },
  {
   "cell_type": "code",
   "execution_count": null,
   "id": "1118c9c4-4767-4d53-836d-d639707ef6d8",
   "metadata": {},
   "outputs": [],
   "source": []
  }
 ],
 "metadata": {
  "kernelspec": {
   "display_name": "LeRo_venv",
   "language": "python",
   "name": "lero_venv"
  },
  "language_info": {
   "codemirror_mode": {
    "name": "ipython",
    "version": 3
   },
   "file_extension": ".py",
   "mimetype": "text/x-python",
   "name": "python",
   "nbconvert_exporter": "python",
   "pygments_lexer": "ipython3",
   "version": "3.13.5"
  }
 },
 "nbformat": 4,
 "nbformat_minor": 5
}
