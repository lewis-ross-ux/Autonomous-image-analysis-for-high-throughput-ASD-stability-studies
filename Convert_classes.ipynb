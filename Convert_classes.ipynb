{
 "cells": [
  {
   "cell_type": "code",
   "execution_count": 1,
   "id": "ce9dd9b2-ce95-421a-aa18-88507b8db4ad",
   "metadata": {},
   "outputs": [],
   "source": [
    "import os\n",
    "\n",
    "# Path to your labels folder\n",
    "labels_path = r\"/home/lero/idrive/cmac/DDMAP/Image_analysis/Code/wells_model/labels_wells_model\""
   ]
  },
  {
   "cell_type": "code",
   "execution_count": 2,
   "id": "fe3d9e69-038e-4365-9162-53be695d9236",
   "metadata": {},
   "outputs": [
    {
     "name": "stdout",
     "output_type": "stream",
     "text": [
      "✅ Finished relabeling classes. All classes 1, 2, 3 are now 1. Class 0 unchanged.\n"
     ]
    }
   ],
   "source": [
    "# Classes to merge into class 1\n",
    "merge_classes = {\"0\", \"2\", \"3\", \"4\", \"5\"}\n",
    "delete_classes = {\"1\"}\n",
    "label_class = {\"6\"}\n",
    "\n",
    "# Iterate through all label files\n",
    "for file_name in os.listdir(labels_path):\n",
    "    if file_name.endswith(\".txt\"):\n",
    "        file_path = os.path.join(labels_path, file_name)\n",
    "        \n",
    "        # Read the file\n",
    "        with open(file_path, \"r\") as f:\n",
    "            lines = f.readlines()\n",
    "        \n",
    "        new_lines = []\n",
    "        for line in lines:\n",
    "            parts = line.strip().split()\n",
    "            if not parts:\n",
    "                continue\n",
    "            class_id = parts[0]\n",
    "\n",
    "            #delete crystal polygons class\n",
    "            if class_id in delete_classes:\n",
    "                continue\n",
    "            \n",
    "            # Remap classes 1, 2, 3 -> 0\n",
    "            if class_id in merge_classes:\n",
    "                parts[0] = \"0\"\n",
    "\n",
    "            #Remap label class to 1\n",
    "            if class_id in label_class:\n",
    "                parts[0] = \"1\"\n",
    "            \n",
    "            new_lines.append(\" \".join(parts) + \"\\n\")\n",
    "        \n",
    "        # Overwrite the file with new labels\n",
    "        with open(file_path, \"w\") as f:\n",
    "            f.writelines(new_lines)\n",
    "\n",
    "print(\"✅ Finished relabeling classes. All classes 0,2,3,4,5 are now 0. Class 1 is deleted. Class 6 is now 1\")"
   ]
  },
  {
   "cell_type": "code",
   "execution_count": null,
   "id": "f3f7ae24-eb9a-4fd0-bf08-479f1417abd2",
   "metadata": {},
   "outputs": [],
   "source": []
  }
 ],
 "metadata": {
  "kernelspec": {
   "display_name": "LeRo_venv",
   "language": "python",
   "name": "lero_venv"
  },
  "language_info": {
   "codemirror_mode": {
    "name": "ipython",
    "version": 3
   },
   "file_extension": ".py",
   "mimetype": "text/x-python",
   "name": "python",
   "nbconvert_exporter": "python",
   "pygments_lexer": "ipython3",
   "version": "3.13.5"
  }
 },
 "nbformat": 4,
 "nbformat_minor": 5
}
