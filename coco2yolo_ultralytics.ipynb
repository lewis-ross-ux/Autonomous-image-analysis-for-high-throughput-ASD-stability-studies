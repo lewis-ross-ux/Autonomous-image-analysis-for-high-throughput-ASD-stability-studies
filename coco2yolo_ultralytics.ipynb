{
 "cells": [
  {
   "cell_type": "code",
   "execution_count": 5,
   "id": "1c3e6297-1098-4b1c-88bd-6faded3c3b05",
   "metadata": {},
   "outputs": [],
   "source": [
    "import numpy as np\n",
    "import ultralytics"
   ]
  },
  {
   "cell_type": "code",
   "execution_count": 6,
   "id": "05a2e206-e63c-44d7-b71e-20ad0a9bab4c",
   "metadata": {},
   "outputs": [
    {
     "name": "stdout",
     "output_type": "stream",
     "text": [
      "\u001b[KAnnotations /mnt/i/cmac/DDMAP/Image_analysis/Code/Image_analysis_coco_original_dataset/images/instances_default.json: 100% ━━━━━━━━━━━━ 60/60 82.5it/s 0.7s0.1s\n",
      "COCO data converted successfully.\n",
      "Results saved to /mnt/i/cmac/DDMAP/Image_analysis/Code/Image_analysis_coco_original_dataset/yolo_format\n"
     ]
    }
   ],
   "source": [
    "from ultralytics.data.converter import convert_coco\n",
    "\n",
    "convert_coco(\n",
    "    labels_dir = '/home/lero/idrive/cmac/DDMAP/Image_analysis/Code/Image_analysis_coco_original_dataset/images', \n",
    "    use_segments=True, \n",
    "    use_keypoints=False, \n",
    "    save_dir = '/home/lero/idrive/cmac/DDMAP/Image_analysis/Code/Image_analysis_coco_original_dataset/yolo_format'\n",
    ")\n"
   ]
  },
  {
   "cell_type": "code",
   "execution_count": null,
   "id": "3275daf6-1411-4f1d-849f-90bf2950fab1",
   "metadata": {},
   "outputs": [],
   "source": []
  }
 ],
 "metadata": {
  "kernelspec": {
   "display_name": "LeRo_venv",
   "language": "python",
   "name": "lero_venv"
  },
  "language_info": {
   "codemirror_mode": {
    "name": "ipython",
    "version": 3
   },
   "file_extension": ".py",
   "mimetype": "text/x-python",
   "name": "python",
   "nbconvert_exporter": "python",
   "pygments_lexer": "ipython3",
   "version": "3.13.5"
  }
 },
 "nbformat": 4,
 "nbformat_minor": 5
}
